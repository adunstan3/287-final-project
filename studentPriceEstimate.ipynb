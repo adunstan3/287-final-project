{
 "cells": [
  {
   "cell_type": "code",
   "execution_count": 1,
   "metadata": {},
   "outputs": [
    {
     "data": {
      "text/plain": [
       "1                                                     NaN\n",
       "2                                                     NaN\n",
       "3        CAS first time first year exploratory  studen...\n",
       "4               CAS first-time, first-year students  only\n",
       "5               CAS first-time, first-year students  only\n",
       "                              ...                        \n",
       "5977     World Language Scholars only; CAS first  time...\n",
       "5978     Open to At-Home students only; World  Languag...\n",
       "5979     Minimum sophomore standing; Cross  listed wit...\n",
       "5980     Open to At-Home students only; Cross  listed ...\n",
       "5981     Cross listed with CRES 195B; Prereq:  Sophomo...\n",
       "Name: Comments, Length: 5981, dtype: object"
      ]
     },
     "execution_count": 1,
     "metadata": {},
     "output_type": "execute_result"
    }
   ],
   "source": [
    "#import required packages and load the 2 data frames\n",
    "import pandas as pd\n",
    "bookPrices = pd.read_excel('bookPrices.xlsx', index_col=None)   \n",
    "classData = pd.read_excel('uvmClasses.xlsx', index_col=None, sheet_name = \"Fall 2020\")  \n",
    "classData = classData.drop([0])\n",
    "classData[\"Comments\"]"
   ]
  },
  {
   "cell_type": "code",
   "execution_count": 2,
   "metadata": {},
   "outputs": [],
   "source": [
    "#A function that searches the book prices data frame and returns \n",
    "def getPrices(row):\n",
    "    course = str(row['Course']).strip()\n",
    "    section = str(row['Sect']).strip()\n",
    "\n",
    "    correctClassBool = bookPrices[\"title\"] == course\n",
    "    chosenClasses = bookPrices[correctClassBool]\n",
    "    \n",
    "    correctSectBool = chosenClasses.section.isin([section, 'ALL'])\n",
    "    chosenClasses = chosenClasses[correctSectBool]\n",
    "    \n",
    "    if chosenClasses.empty:\n",
    "        return 0\n",
    "    else:\n",
    "        return chosenClasses['totalPrice'].iloc[0]\n",
    "\n",
    "classData['bookPrice'] = classData.apply(getPrices, axis = 1) "
   ]
  },
  {
   "cell_type": "code",
   "execution_count": 13,
   "metadata": {},
   "outputs": [
    {
     "name": "stdout",
     "output_type": "stream",
     "text": [
      "Total money the school asked students to spend: $4069907.61\n",
      "The school asked the average student to spend: $355.67\n"
     ]
    }
   ],
   "source": [
    "classData.fillna(value={'Cur Enrl': 0})\n",
    "\n",
    "def findTotalSpent(row):\n",
    "    enrl = row['Cur Enrl']\n",
    "    price = row['bookPrice']\n",
    "    enrl = int(enrl.split()[0])\n",
    "    return enrl*price\n",
    "\n",
    "classData['totalSpent'] = classData.apply(findTotalSpent, axis = 1) \n",
    "\n",
    "totalSpentByStudents = classData['totalSpent'].sum()\n",
    "\n",
    "#Source: https://tinyurl.com/y5b8npzu\n",
    "numStudents = 11443\n",
    "averageSpent = totalSpentByStudents/numStudents\n",
    "\n",
    "print(\"Total money the school asked students to spend: ${:.2f}\".format(totalSpentByStudents))\n",
    "print(\"The school asked the average student to spend: ${:.2f}\".format(averageSpent))"
   ]
  },
  {
   "cell_type": "code",
   "execution_count": null,
   "metadata": {},
   "outputs": [],
   "source": []
  }
 ],
 "metadata": {
  "kernelspec": {
   "display_name": "Python 3",
   "language": "python",
   "name": "python3"
  },
  "language_info": {
   "codemirror_mode": {
    "name": "ipython",
    "version": 3
   },
   "file_extension": ".py",
   "mimetype": "text/x-python",
   "name": "python",
   "nbconvert_exporter": "python",
   "pygments_lexer": "ipython3",
   "version": "3.8.3"
  }
 },
 "nbformat": 4,
 "nbformat_minor": 4
}
